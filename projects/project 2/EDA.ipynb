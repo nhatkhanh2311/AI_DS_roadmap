{
 "cells": [
  {
   "metadata": {},
   "cell_type": "markdown",
   "source": "# Dự án 2: Dự đoán Giá nhà (Ames Housing)",
   "id": "af9ce2ffa7f5885a"
  },
  {
   "metadata": {},
   "cell_type": "markdown",
   "source": [
    "## Bước 1: Tải và Khám phá Dữ liệu (EDA)\n",
    "Tải dữ liệu và thực hiện các bước \"khám bệnh\" cơ bản để hiểu cấu trúc và các vấn đề của dữ liệu."
   ],
   "id": "758038767857ebfc"
  },
  {
   "metadata": {
    "ExecuteTime": {
     "end_time": "2025-09-18T16:56:47.342803Z",
     "start_time": "2025-09-18T16:56:47.327667Z"
    }
   },
   "cell_type": "code",
   "source": [
    "import pandas as pd\n",
    "import numpy as np\n",
    "import matplotlib.pyplot as plt\n",
    "import seaborn as sns\n",
    "\n",
    "# Cài đặt để các biểu đồ hiển thị ngay trong notebook\n",
    "%matplotlib inline"
   ],
   "id": "a87e61a8342d5138",
   "outputs": [],
   "execution_count": 1
  },
  {
   "metadata": {
    "ExecuteTime": {
     "end_time": "2025-09-18T16:56:49.787077Z",
     "start_time": "2025-09-18T16:56:49.748542Z"
    }
   },
   "cell_type": "code",
   "source": [
    "try:\n",
    "    df = pd.read_csv('train.csv')\n",
    "    print(\"Tải file train.csv thành công!\")\n",
    "    display(df.head())\n",
    "\n",
    "except FileNotFoundError:\n",
    "    print(\"LỖI: Không tìm thấy file 'train.csv'.\")\n",
    "    print(\"Lưu ý: Bạn cũng cần file 'data_description.txt' để tham khảo.\")"
   ],
   "id": "beabff07ace0765b",
   "outputs": [
    {
     "name": "stdout",
     "output_type": "stream",
     "text": [
      "Tải file train.csv thành công!\n"
     ]
    },
    {
     "data": {
      "text/plain": [
       "   Id  MSSubClass MSZoning  LotFrontage  LotArea Street Alley LotShape  \\\n",
       "0   1          60       RL         65.0     8450   Pave   NaN      Reg   \n",
       "1   2          20       RL         80.0     9600   Pave   NaN      Reg   \n",
       "2   3          60       RL         68.0    11250   Pave   NaN      IR1   \n",
       "3   4          70       RL         60.0     9550   Pave   NaN      IR1   \n",
       "4   5          60       RL         84.0    14260   Pave   NaN      IR1   \n",
       "\n",
       "  LandContour Utilities  ... PoolArea PoolQC Fence MiscFeature MiscVal MoSold  \\\n",
       "0         Lvl    AllPub  ...        0    NaN   NaN         NaN       0      2   \n",
       "1         Lvl    AllPub  ...        0    NaN   NaN         NaN       0      5   \n",
       "2         Lvl    AllPub  ...        0    NaN   NaN         NaN       0      9   \n",
       "3         Lvl    AllPub  ...        0    NaN   NaN         NaN       0      2   \n",
       "4         Lvl    AllPub  ...        0    NaN   NaN         NaN       0     12   \n",
       "\n",
       "  YrSold  SaleType  SaleCondition  SalePrice  \n",
       "0   2008        WD         Normal     208500  \n",
       "1   2007        WD         Normal     181500  \n",
       "2   2008        WD         Normal     223500  \n",
       "3   2006        WD        Abnorml     140000  \n",
       "4   2008        WD         Normal     250000  \n",
       "\n",
       "[5 rows x 81 columns]"
      ],
      "text/html": [
       "<div>\n",
       "<style scoped>\n",
       "    .dataframe tbody tr th:only-of-type {\n",
       "        vertical-align: middle;\n",
       "    }\n",
       "\n",
       "    .dataframe tbody tr th {\n",
       "        vertical-align: top;\n",
       "    }\n",
       "\n",
       "    .dataframe thead th {\n",
       "        text-align: right;\n",
       "    }\n",
       "</style>\n",
       "<table border=\"1\" class=\"dataframe\">\n",
       "  <thead>\n",
       "    <tr style=\"text-align: right;\">\n",
       "      <th></th>\n",
       "      <th>Id</th>\n",
       "      <th>MSSubClass</th>\n",
       "      <th>MSZoning</th>\n",
       "      <th>LotFrontage</th>\n",
       "      <th>LotArea</th>\n",
       "      <th>Street</th>\n",
       "      <th>Alley</th>\n",
       "      <th>LotShape</th>\n",
       "      <th>LandContour</th>\n",
       "      <th>Utilities</th>\n",
       "      <th>...</th>\n",
       "      <th>PoolArea</th>\n",
       "      <th>PoolQC</th>\n",
       "      <th>Fence</th>\n",
       "      <th>MiscFeature</th>\n",
       "      <th>MiscVal</th>\n",
       "      <th>MoSold</th>\n",
       "      <th>YrSold</th>\n",
       "      <th>SaleType</th>\n",
       "      <th>SaleCondition</th>\n",
       "      <th>SalePrice</th>\n",
       "    </tr>\n",
       "  </thead>\n",
       "  <tbody>\n",
       "    <tr>\n",
       "      <th>0</th>\n",
       "      <td>1</td>\n",
       "      <td>60</td>\n",
       "      <td>RL</td>\n",
       "      <td>65.0</td>\n",
       "      <td>8450</td>\n",
       "      <td>Pave</td>\n",
       "      <td>NaN</td>\n",
       "      <td>Reg</td>\n",
       "      <td>Lvl</td>\n",
       "      <td>AllPub</td>\n",
       "      <td>...</td>\n",
       "      <td>0</td>\n",
       "      <td>NaN</td>\n",
       "      <td>NaN</td>\n",
       "      <td>NaN</td>\n",
       "      <td>0</td>\n",
       "      <td>2</td>\n",
       "      <td>2008</td>\n",
       "      <td>WD</td>\n",
       "      <td>Normal</td>\n",
       "      <td>208500</td>\n",
       "    </tr>\n",
       "    <tr>\n",
       "      <th>1</th>\n",
       "      <td>2</td>\n",
       "      <td>20</td>\n",
       "      <td>RL</td>\n",
       "      <td>80.0</td>\n",
       "      <td>9600</td>\n",
       "      <td>Pave</td>\n",
       "      <td>NaN</td>\n",
       "      <td>Reg</td>\n",
       "      <td>Lvl</td>\n",
       "      <td>AllPub</td>\n",
       "      <td>...</td>\n",
       "      <td>0</td>\n",
       "      <td>NaN</td>\n",
       "      <td>NaN</td>\n",
       "      <td>NaN</td>\n",
       "      <td>0</td>\n",
       "      <td>5</td>\n",
       "      <td>2007</td>\n",
       "      <td>WD</td>\n",
       "      <td>Normal</td>\n",
       "      <td>181500</td>\n",
       "    </tr>\n",
       "    <tr>\n",
       "      <th>2</th>\n",
       "      <td>3</td>\n",
       "      <td>60</td>\n",
       "      <td>RL</td>\n",
       "      <td>68.0</td>\n",
       "      <td>11250</td>\n",
       "      <td>Pave</td>\n",
       "      <td>NaN</td>\n",
       "      <td>IR1</td>\n",
       "      <td>Lvl</td>\n",
       "      <td>AllPub</td>\n",
       "      <td>...</td>\n",
       "      <td>0</td>\n",
       "      <td>NaN</td>\n",
       "      <td>NaN</td>\n",
       "      <td>NaN</td>\n",
       "      <td>0</td>\n",
       "      <td>9</td>\n",
       "      <td>2008</td>\n",
       "      <td>WD</td>\n",
       "      <td>Normal</td>\n",
       "      <td>223500</td>\n",
       "    </tr>\n",
       "    <tr>\n",
       "      <th>3</th>\n",
       "      <td>4</td>\n",
       "      <td>70</td>\n",
       "      <td>RL</td>\n",
       "      <td>60.0</td>\n",
       "      <td>9550</td>\n",
       "      <td>Pave</td>\n",
       "      <td>NaN</td>\n",
       "      <td>IR1</td>\n",
       "      <td>Lvl</td>\n",
       "      <td>AllPub</td>\n",
       "      <td>...</td>\n",
       "      <td>0</td>\n",
       "      <td>NaN</td>\n",
       "      <td>NaN</td>\n",
       "      <td>NaN</td>\n",
       "      <td>0</td>\n",
       "      <td>2</td>\n",
       "      <td>2006</td>\n",
       "      <td>WD</td>\n",
       "      <td>Abnorml</td>\n",
       "      <td>140000</td>\n",
       "    </tr>\n",
       "    <tr>\n",
       "      <th>4</th>\n",
       "      <td>5</td>\n",
       "      <td>60</td>\n",
       "      <td>RL</td>\n",
       "      <td>84.0</td>\n",
       "      <td>14260</td>\n",
       "      <td>Pave</td>\n",
       "      <td>NaN</td>\n",
       "      <td>IR1</td>\n",
       "      <td>Lvl</td>\n",
       "      <td>AllPub</td>\n",
       "      <td>...</td>\n",
       "      <td>0</td>\n",
       "      <td>NaN</td>\n",
       "      <td>NaN</td>\n",
       "      <td>NaN</td>\n",
       "      <td>0</td>\n",
       "      <td>12</td>\n",
       "      <td>2008</td>\n",
       "      <td>WD</td>\n",
       "      <td>Normal</td>\n",
       "      <td>250000</td>\n",
       "    </tr>\n",
       "  </tbody>\n",
       "</table>\n",
       "<p>5 rows × 81 columns</p>\n",
       "</div>"
      ]
     },
     "metadata": {},
     "output_type": "display_data"
    }
   ],
   "execution_count": 2
  },
  {
   "metadata": {},
   "cell_type": "markdown",
   "source": [
    "### Phân tích 1: Cấu trúc Dữ liệu & Kiểu Dữ liệu\n",
    "Chạy `.info()` để kiểm tra tổng quan, kiểu dữ liệu (Dtype) của mỗi cột, và phát hiện các cột có giá trị rỗng (non-null count < tổng số hàng)."
   ],
   "id": "a43809188d5dcf5c"
  },
  {
   "metadata": {
    "ExecuteTime": {
     "end_time": "2025-09-18T16:56:52.152546Z",
     "start_time": "2025-09-18T16:56:52.138491Z"
    }
   },
   "cell_type": "code",
   "source": [
    "# Kiểm tra tổng quan: kiểu dữ liệu và các giá trị không rỗng\n",
    "df.info()"
   ],
   "id": "b377110d76eea196",
   "outputs": [
    {
     "name": "stdout",
     "output_type": "stream",
     "text": [
      "<class 'pandas.core.frame.DataFrame'>\n",
      "RangeIndex: 1460 entries, 0 to 1459\n",
      "Data columns (total 81 columns):\n",
      " #   Column         Non-Null Count  Dtype  \n",
      "---  ------         --------------  -----  \n",
      " 0   Id             1460 non-null   int64  \n",
      " 1   MSSubClass     1460 non-null   int64  \n",
      " 2   MSZoning       1460 non-null   object \n",
      " 3   LotFrontage    1201 non-null   float64\n",
      " 4   LotArea        1460 non-null   int64  \n",
      " 5   Street         1460 non-null   object \n",
      " 6   Alley          91 non-null     object \n",
      " 7   LotShape       1460 non-null   object \n",
      " 8   LandContour    1460 non-null   object \n",
      " 9   Utilities      1460 non-null   object \n",
      " 10  LotConfig      1460 non-null   object \n",
      " 11  LandSlope      1460 non-null   object \n",
      " 12  Neighborhood   1460 non-null   object \n",
      " 13  Condition1     1460 non-null   object \n",
      " 14  Condition2     1460 non-null   object \n",
      " 15  BldgType       1460 non-null   object \n",
      " 16  HouseStyle     1460 non-null   object \n",
      " 17  OverallQual    1460 non-null   int64  \n",
      " 18  OverallCond    1460 non-null   int64  \n",
      " 19  YearBuilt      1460 non-null   int64  \n",
      " 20  YearRemodAdd   1460 non-null   int64  \n",
      " 21  RoofStyle      1460 non-null   object \n",
      " 22  RoofMatl       1460 non-null   object \n",
      " 23  Exterior1st    1460 non-null   object \n",
      " 24  Exterior2nd    1460 non-null   object \n",
      " 25  MasVnrType     588 non-null    object \n",
      " 26  MasVnrArea     1452 non-null   float64\n",
      " 27  ExterQual      1460 non-null   object \n",
      " 28  ExterCond      1460 non-null   object \n",
      " 29  Foundation     1460 non-null   object \n",
      " 30  BsmtQual       1423 non-null   object \n",
      " 31  BsmtCond       1423 non-null   object \n",
      " 32  BsmtExposure   1422 non-null   object \n",
      " 33  BsmtFinType1   1423 non-null   object \n",
      " 34  BsmtFinSF1     1460 non-null   int64  \n",
      " 35  BsmtFinType2   1422 non-null   object \n",
      " 36  BsmtFinSF2     1460 non-null   int64  \n",
      " 37  BsmtUnfSF      1460 non-null   int64  \n",
      " 38  TotalBsmtSF    1460 non-null   int64  \n",
      " 39  Heating        1460 non-null   object \n",
      " 40  HeatingQC      1460 non-null   object \n",
      " 41  CentralAir     1460 non-null   object \n",
      " 42  Electrical     1459 non-null   object \n",
      " 43  1stFlrSF       1460 non-null   int64  \n",
      " 44  2ndFlrSF       1460 non-null   int64  \n",
      " 45  LowQualFinSF   1460 non-null   int64  \n",
      " 46  GrLivArea      1460 non-null   int64  \n",
      " 47  BsmtFullBath   1460 non-null   int64  \n",
      " 48  BsmtHalfBath   1460 non-null   int64  \n",
      " 49  FullBath       1460 non-null   int64  \n",
      " 50  HalfBath       1460 non-null   int64  \n",
      " 51  BedroomAbvGr   1460 non-null   int64  \n",
      " 52  KitchenAbvGr   1460 non-null   int64  \n",
      " 53  KitchenQual    1460 non-null   object \n",
      " 54  TotRmsAbvGrd   1460 non-null   int64  \n",
      " 55  Functional     1460 non-null   object \n",
      " 56  Fireplaces     1460 non-null   int64  \n",
      " 57  FireplaceQu    770 non-null    object \n",
      " 58  GarageType     1379 non-null   object \n",
      " 59  GarageYrBlt    1379 non-null   float64\n",
      " 60  GarageFinish   1379 non-null   object \n",
      " 61  GarageCars     1460 non-null   int64  \n",
      " 62  GarageArea     1460 non-null   int64  \n",
      " 63  GarageQual     1379 non-null   object \n",
      " 64  GarageCond     1379 non-null   object \n",
      " 65  PavedDrive     1460 non-null   object \n",
      " 66  WoodDeckSF     1460 non-null   int64  \n",
      " 67  OpenPorchSF    1460 non-null   int64  \n",
      " 68  EnclosedPorch  1460 non-null   int64  \n",
      " 69  3SsnPorch      1460 non-null   int64  \n",
      " 70  ScreenPorch    1460 non-null   int64  \n",
      " 71  PoolArea       1460 non-null   int64  \n",
      " 72  PoolQC         7 non-null      object \n",
      " 73  Fence          281 non-null    object \n",
      " 74  MiscFeature    54 non-null     object \n",
      " 75  MiscVal        1460 non-null   int64  \n",
      " 76  MoSold         1460 non-null   int64  \n",
      " 77  YrSold         1460 non-null   int64  \n",
      " 78  SaleType       1460 non-null   object \n",
      " 79  SaleCondition  1460 non-null   object \n",
      " 80  SalePrice      1460 non-null   int64  \n",
      "dtypes: float64(3), int64(35), object(43)\n",
      "memory usage: 924.0+ KB\n"
     ]
    }
   ],
   "execution_count": 3
  },
  {
   "metadata": {},
   "cell_type": "markdown",
   "source": [
    "* Bộ dữ liệu có 1460 hàng và 81 cột (bao gồm `Id` và cột mục tiêu `SalePrice`).\n",
    "* Dữ liệu là một sự kết hợp của `int64`, `float64`, và `object` (chuỗi). Các cột `object` sẽ cần được mã hóa.\n",
    "* Nhiều cột có số lượng \"Non-Null\" ít hơn 1460, cho thấy dữ liệu thiếu là một vấn đề lớn cần xử lý."
   ],
   "id": "33d3536a860ed59c"
  },
  {
   "metadata": {},
   "cell_type": "markdown",
   "source": [
    "### Phân tích 2: Tổng quan Thống kê\n",
    "Sử dụng `.describe()` để xem xét phân phối của các cột SỐ. Chúng ta cần chú ý đến `mean` vs `median (50%)` để xem độ lệch, và `75%` vs `max` để phát hiện dấu hiệu của outliers."
   ],
   "id": "c8ca13e827e7e042"
  },
  {
   "metadata": {
    "ExecuteTime": {
     "end_time": "2025-09-18T16:57:00.059751Z",
     "start_time": "2025-09-18T16:57:00.009507Z"
    }
   },
   "cell_type": "code",
   "source": [
    "# Xem các thống kê cơ bản cho các cột số\n",
    "display(df.describe())"
   ],
   "id": "e7604706f63af72",
   "outputs": [
    {
     "data": {
      "text/plain": [
       "                Id   MSSubClass  LotFrontage        LotArea  OverallQual  \\\n",
       "count  1460.000000  1460.000000  1201.000000    1460.000000  1460.000000   \n",
       "mean    730.500000    56.897260    70.049958   10516.828082     6.099315   \n",
       "std     421.610009    42.300571    24.284752    9981.264932     1.382997   \n",
       "min       1.000000    20.000000    21.000000    1300.000000     1.000000   \n",
       "25%     365.750000    20.000000    59.000000    7553.500000     5.000000   \n",
       "50%     730.500000    50.000000    69.000000    9478.500000     6.000000   \n",
       "75%    1095.250000    70.000000    80.000000   11601.500000     7.000000   \n",
       "max    1460.000000   190.000000   313.000000  215245.000000    10.000000   \n",
       "\n",
       "       OverallCond    YearBuilt  YearRemodAdd   MasVnrArea   BsmtFinSF1  ...  \\\n",
       "count  1460.000000  1460.000000   1460.000000  1452.000000  1460.000000  ...   \n",
       "mean      5.575342  1971.267808   1984.865753   103.685262   443.639726  ...   \n",
       "std       1.112799    30.202904     20.645407   181.066207   456.098091  ...   \n",
       "min       1.000000  1872.000000   1950.000000     0.000000     0.000000  ...   \n",
       "25%       5.000000  1954.000000   1967.000000     0.000000     0.000000  ...   \n",
       "50%       5.000000  1973.000000   1994.000000     0.000000   383.500000  ...   \n",
       "75%       6.000000  2000.000000   2004.000000   166.000000   712.250000  ...   \n",
       "max       9.000000  2010.000000   2010.000000  1600.000000  5644.000000  ...   \n",
       "\n",
       "        WoodDeckSF  OpenPorchSF  EnclosedPorch    3SsnPorch  ScreenPorch  \\\n",
       "count  1460.000000  1460.000000    1460.000000  1460.000000  1460.000000   \n",
       "mean     94.244521    46.660274      21.954110     3.409589    15.060959   \n",
       "std     125.338794    66.256028      61.119149    29.317331    55.757415   \n",
       "min       0.000000     0.000000       0.000000     0.000000     0.000000   \n",
       "25%       0.000000     0.000000       0.000000     0.000000     0.000000   \n",
       "50%       0.000000    25.000000       0.000000     0.000000     0.000000   \n",
       "75%     168.000000    68.000000       0.000000     0.000000     0.000000   \n",
       "max     857.000000   547.000000     552.000000   508.000000   480.000000   \n",
       "\n",
       "          PoolArea       MiscVal       MoSold       YrSold      SalePrice  \n",
       "count  1460.000000   1460.000000  1460.000000  1460.000000    1460.000000  \n",
       "mean      2.758904     43.489041     6.321918  2007.815753  180921.195890  \n",
       "std      40.177307    496.123024     2.703626     1.328095   79442.502883  \n",
       "min       0.000000      0.000000     1.000000  2006.000000   34900.000000  \n",
       "25%       0.000000      0.000000     5.000000  2007.000000  129975.000000  \n",
       "50%       0.000000      0.000000     6.000000  2008.000000  163000.000000  \n",
       "75%       0.000000      0.000000     8.000000  2009.000000  214000.000000  \n",
       "max     738.000000  15500.000000    12.000000  2010.000000  755000.000000  \n",
       "\n",
       "[8 rows x 38 columns]"
      ],
      "text/html": [
       "<div>\n",
       "<style scoped>\n",
       "    .dataframe tbody tr th:only-of-type {\n",
       "        vertical-align: middle;\n",
       "    }\n",
       "\n",
       "    .dataframe tbody tr th {\n",
       "        vertical-align: top;\n",
       "    }\n",
       "\n",
       "    .dataframe thead th {\n",
       "        text-align: right;\n",
       "    }\n",
       "</style>\n",
       "<table border=\"1\" class=\"dataframe\">\n",
       "  <thead>\n",
       "    <tr style=\"text-align: right;\">\n",
       "      <th></th>\n",
       "      <th>Id</th>\n",
       "      <th>MSSubClass</th>\n",
       "      <th>LotFrontage</th>\n",
       "      <th>LotArea</th>\n",
       "      <th>OverallQual</th>\n",
       "      <th>OverallCond</th>\n",
       "      <th>YearBuilt</th>\n",
       "      <th>YearRemodAdd</th>\n",
       "      <th>MasVnrArea</th>\n",
       "      <th>BsmtFinSF1</th>\n",
       "      <th>...</th>\n",
       "      <th>WoodDeckSF</th>\n",
       "      <th>OpenPorchSF</th>\n",
       "      <th>EnclosedPorch</th>\n",
       "      <th>3SsnPorch</th>\n",
       "      <th>ScreenPorch</th>\n",
       "      <th>PoolArea</th>\n",
       "      <th>MiscVal</th>\n",
       "      <th>MoSold</th>\n",
       "      <th>YrSold</th>\n",
       "      <th>SalePrice</th>\n",
       "    </tr>\n",
       "  </thead>\n",
       "  <tbody>\n",
       "    <tr>\n",
       "      <th>count</th>\n",
       "      <td>1460.000000</td>\n",
       "      <td>1460.000000</td>\n",
       "      <td>1201.000000</td>\n",
       "      <td>1460.000000</td>\n",
       "      <td>1460.000000</td>\n",
       "      <td>1460.000000</td>\n",
       "      <td>1460.000000</td>\n",
       "      <td>1460.000000</td>\n",
       "      <td>1452.000000</td>\n",
       "      <td>1460.000000</td>\n",
       "      <td>...</td>\n",
       "      <td>1460.000000</td>\n",
       "      <td>1460.000000</td>\n",
       "      <td>1460.000000</td>\n",
       "      <td>1460.000000</td>\n",
       "      <td>1460.000000</td>\n",
       "      <td>1460.000000</td>\n",
       "      <td>1460.000000</td>\n",
       "      <td>1460.000000</td>\n",
       "      <td>1460.000000</td>\n",
       "      <td>1460.000000</td>\n",
       "    </tr>\n",
       "    <tr>\n",
       "      <th>mean</th>\n",
       "      <td>730.500000</td>\n",
       "      <td>56.897260</td>\n",
       "      <td>70.049958</td>\n",
       "      <td>10516.828082</td>\n",
       "      <td>6.099315</td>\n",
       "      <td>5.575342</td>\n",
       "      <td>1971.267808</td>\n",
       "      <td>1984.865753</td>\n",
       "      <td>103.685262</td>\n",
       "      <td>443.639726</td>\n",
       "      <td>...</td>\n",
       "      <td>94.244521</td>\n",
       "      <td>46.660274</td>\n",
       "      <td>21.954110</td>\n",
       "      <td>3.409589</td>\n",
       "      <td>15.060959</td>\n",
       "      <td>2.758904</td>\n",
       "      <td>43.489041</td>\n",
       "      <td>6.321918</td>\n",
       "      <td>2007.815753</td>\n",
       "      <td>180921.195890</td>\n",
       "    </tr>\n",
       "    <tr>\n",
       "      <th>std</th>\n",
       "      <td>421.610009</td>\n",
       "      <td>42.300571</td>\n",
       "      <td>24.284752</td>\n",
       "      <td>9981.264932</td>\n",
       "      <td>1.382997</td>\n",
       "      <td>1.112799</td>\n",
       "      <td>30.202904</td>\n",
       "      <td>20.645407</td>\n",
       "      <td>181.066207</td>\n",
       "      <td>456.098091</td>\n",
       "      <td>...</td>\n",
       "      <td>125.338794</td>\n",
       "      <td>66.256028</td>\n",
       "      <td>61.119149</td>\n",
       "      <td>29.317331</td>\n",
       "      <td>55.757415</td>\n",
       "      <td>40.177307</td>\n",
       "      <td>496.123024</td>\n",
       "      <td>2.703626</td>\n",
       "      <td>1.328095</td>\n",
       "      <td>79442.502883</td>\n",
       "    </tr>\n",
       "    <tr>\n",
       "      <th>min</th>\n",
       "      <td>1.000000</td>\n",
       "      <td>20.000000</td>\n",
       "      <td>21.000000</td>\n",
       "      <td>1300.000000</td>\n",
       "      <td>1.000000</td>\n",
       "      <td>1.000000</td>\n",
       "      <td>1872.000000</td>\n",
       "      <td>1950.000000</td>\n",
       "      <td>0.000000</td>\n",
       "      <td>0.000000</td>\n",
       "      <td>...</td>\n",
       "      <td>0.000000</td>\n",
       "      <td>0.000000</td>\n",
       "      <td>0.000000</td>\n",
       "      <td>0.000000</td>\n",
       "      <td>0.000000</td>\n",
       "      <td>0.000000</td>\n",
       "      <td>0.000000</td>\n",
       "      <td>1.000000</td>\n",
       "      <td>2006.000000</td>\n",
       "      <td>34900.000000</td>\n",
       "    </tr>\n",
       "    <tr>\n",
       "      <th>25%</th>\n",
       "      <td>365.750000</td>\n",
       "      <td>20.000000</td>\n",
       "      <td>59.000000</td>\n",
       "      <td>7553.500000</td>\n",
       "      <td>5.000000</td>\n",
       "      <td>5.000000</td>\n",
       "      <td>1954.000000</td>\n",
       "      <td>1967.000000</td>\n",
       "      <td>0.000000</td>\n",
       "      <td>0.000000</td>\n",
       "      <td>...</td>\n",
       "      <td>0.000000</td>\n",
       "      <td>0.000000</td>\n",
       "      <td>0.000000</td>\n",
       "      <td>0.000000</td>\n",
       "      <td>0.000000</td>\n",
       "      <td>0.000000</td>\n",
       "      <td>0.000000</td>\n",
       "      <td>5.000000</td>\n",
       "      <td>2007.000000</td>\n",
       "      <td>129975.000000</td>\n",
       "    </tr>\n",
       "    <tr>\n",
       "      <th>50%</th>\n",
       "      <td>730.500000</td>\n",
       "      <td>50.000000</td>\n",
       "      <td>69.000000</td>\n",
       "      <td>9478.500000</td>\n",
       "      <td>6.000000</td>\n",
       "      <td>5.000000</td>\n",
       "      <td>1973.000000</td>\n",
       "      <td>1994.000000</td>\n",
       "      <td>0.000000</td>\n",
       "      <td>383.500000</td>\n",
       "      <td>...</td>\n",
       "      <td>0.000000</td>\n",
       "      <td>25.000000</td>\n",
       "      <td>0.000000</td>\n",
       "      <td>0.000000</td>\n",
       "      <td>0.000000</td>\n",
       "      <td>0.000000</td>\n",
       "      <td>0.000000</td>\n",
       "      <td>6.000000</td>\n",
       "      <td>2008.000000</td>\n",
       "      <td>163000.000000</td>\n",
       "    </tr>\n",
       "    <tr>\n",
       "      <th>75%</th>\n",
       "      <td>1095.250000</td>\n",
       "      <td>70.000000</td>\n",
       "      <td>80.000000</td>\n",
       "      <td>11601.500000</td>\n",
       "      <td>7.000000</td>\n",
       "      <td>6.000000</td>\n",
       "      <td>2000.000000</td>\n",
       "      <td>2004.000000</td>\n",
       "      <td>166.000000</td>\n",
       "      <td>712.250000</td>\n",
       "      <td>...</td>\n",
       "      <td>168.000000</td>\n",
       "      <td>68.000000</td>\n",
       "      <td>0.000000</td>\n",
       "      <td>0.000000</td>\n",
       "      <td>0.000000</td>\n",
       "      <td>0.000000</td>\n",
       "      <td>0.000000</td>\n",
       "      <td>8.000000</td>\n",
       "      <td>2009.000000</td>\n",
       "      <td>214000.000000</td>\n",
       "    </tr>\n",
       "    <tr>\n",
       "      <th>max</th>\n",
       "      <td>1460.000000</td>\n",
       "      <td>190.000000</td>\n",
       "      <td>313.000000</td>\n",
       "      <td>215245.000000</td>\n",
       "      <td>10.000000</td>\n",
       "      <td>9.000000</td>\n",
       "      <td>2010.000000</td>\n",
       "      <td>2010.000000</td>\n",
       "      <td>1600.000000</td>\n",
       "      <td>5644.000000</td>\n",
       "      <td>...</td>\n",
       "      <td>857.000000</td>\n",
       "      <td>547.000000</td>\n",
       "      <td>552.000000</td>\n",
       "      <td>508.000000</td>\n",
       "      <td>480.000000</td>\n",
       "      <td>738.000000</td>\n",
       "      <td>15500.000000</td>\n",
       "      <td>12.000000</td>\n",
       "      <td>2010.000000</td>\n",
       "      <td>755000.000000</td>\n",
       "    </tr>\n",
       "  </tbody>\n",
       "</table>\n",
       "<p>8 rows × 38 columns</p>\n",
       "</div>"
      ]
     },
     "metadata": {},
     "output_type": "display_data"
    }
   ],
   "execution_count": 4
  },
  {
   "metadata": {},
   "cell_type": "markdown",
   "source": [
    "* **Thang đo:** Các cột có thang đo rất khác nhau. `LotArea` có giá trị max là 215245 trong khi `OverallQual` chỉ có max là 10. Điều này xác nhận việc chuẩn hóa (scaling) sẽ là bắt buộc.\n",
    "* **Dấu hiệu Lệch:** Nhìn vào cột `SalePrice`, giá trị trung bình `mean` (khoảng 180k) lớn hơn đáng kể so với trung vị `50%` (khoảng 163k). Đây là dấu hiệu rõ ràng của phân phối lệch phải (right-skewed)."
   ],
   "id": "86957d33d8b067b1"
  },
  {
   "metadata": {},
   "cell_type": "markdown",
   "source": [
    "### Phân tích 3: Xác nhận Dữ liệu thiếu\n",
    "Lệnh `.info()` cho thấy có dữ liệu thiếu, giờ chúng ta sẽ đếm chính xác số lượng giá trị rỗng trên mỗi cột và sắp xếp chúng."
   ],
   "id": "ef92fc4328d967c3"
  },
  {
   "metadata": {
    "ExecuteTime": {
     "end_time": "2025-09-18T16:57:01.993179Z",
     "start_time": "2025-09-18T16:57:01.986548Z"
    }
   },
   "cell_type": "code",
   "source": [
    "# Đếm chính xác số lượng giá trị rỗng (NaN) trên mỗi cột\n",
    "print(\"Các cột có giá trị thiếu:\")\n",
    "missing_values = df.isnull().sum()\n",
    "print(missing_values[missing_values > 0].sort_values(ascending=False))"
   ],
   "id": "dc08d7670865129",
   "outputs": [
    {
     "name": "stdout",
     "output_type": "stream",
     "text": [
      "Các cột có giá trị thiếu:\n",
      "PoolQC          1453\n",
      "MiscFeature     1406\n",
      "Alley           1369\n",
      "Fence           1179\n",
      "MasVnrType       872\n",
      "FireplaceQu      690\n",
      "LotFrontage      259\n",
      "GarageType        81\n",
      "GarageYrBlt       81\n",
      "GarageFinish      81\n",
      "GarageQual        81\n",
      "GarageCond        81\n",
      "BsmtExposure      38\n",
      "BsmtFinType2      38\n",
      "BsmtQual          37\n",
      "BsmtCond          37\n",
      "BsmtFinType1      37\n",
      "MasVnrArea         8\n",
      "Electrical         1\n",
      "dtype: int64\n"
     ]
    }
   ],
   "execution_count": 5
  },
  {
   "metadata": {},
   "cell_type": "markdown",
   "source": [
    "* Có 4 cột (`PoolQC`, `MiscFeature`, `Alley`, `Fence`) bị thiếu dữ liệu cực kỳ nghiêm trọng (hơn 80%).\n",
    "* **Insight quan trọng:** Khi tham chiếu đến file `data_description.txt`, chúng ta phát hiện ra rằng `NA` ở các cột này không có nghĩa là \"thiếu\", mà có ý nghĩa là **\"Không có\"** (ví dụ: `PoolQC = NA` có nghĩa là \"Không có Hồ bơi\"). Đây là một vấn đề về mã hóa dữ liệu, không phải dữ liệu bị mất, và sẽ được xử lý như một đặc trưng hạng mục.\n",
    "* Các cột khác như `LotFrontage` và `GarageYrBlt` bị thiếu một lượng đáng kể và sẽ cần các chiến lược điền giá trị (imputation)."
   ],
   "id": "7d53cbb531ca58a7"
  },
  {
   "metadata": {},
   "cell_type": "markdown",
   "source": [
    "### Phân tích 4: Phân phối của Biến Mục tiêu (SalePrice)\n",
    "Bây giờ, hãy xem xét biến quan trọng nhất mà chúng ta cần dự đoán: `SalePrice`. Hình dạng của phân phối này sẽ quyết định xem chúng ta có cần biến đổi nó không."
   ],
   "id": "826b5691c9a1a835"
  },
  {
   "metadata": {
    "ExecuteTime": {
     "end_time": "2025-09-18T16:57:04.479173Z",
     "start_time": "2025-09-18T16:57:04.197061Z"
    }
   },
   "cell_type": "code",
   "source": [
    "plt.figure(figsize=(10, 6))\n",
    "sns.histplot(df['SalePrice'], kde=True, bins=50)\n",
    "plt.title('Phân phối của Giá bán Nhà (SalePrice)')\n",
    "plt.xlabel('Giá bán')\n",
    "plt.ylabel('Số lượng')\n",
    "plt.show()"
   ],
   "id": "e5b59cc4e536912e",
   "outputs": [
    {
     "data": {
      "text/plain": [
       "<Figure size 1000x600 with 1 Axes>"
      ],
      "image/png": "[encoded data removed]"
     },
     "metadata": {},
     "output_type": "display_data"
    }
   ],
   "execution_count": 6
  },
  {
   "metadata": {},
   "cell_type": "markdown",
   "source": [
    "* **Phát hiện:** Biểu đồ xác nhận: Phân phối bị lệch phải mạnh, với một cái đuôi dài về phía các bất động sản giá cao.\n",
    "* **Hệ quả:** Nhiều mô hình hồi quy tuyến tính hoạt động tốt nhất trên dữ liệu phân phối chuẩn.\n",
    "* **Giải pháp (Bước 2):** Chúng ta sẽ phải áp dụng một **biến đổi logarit (Log Transform)** cho cột này ở bước tiền xử lý để chuẩn hóa nó, giúp các mô hình tuyến tính hội tụ tốt hơn."
   ],
   "id": "c8746aebfae517a"
  },
  {
   "metadata": {},
   "cell_type": "markdown",
   "source": [
    "## Bước 2: Tiền xử lý & Kỹ thuật Đặc trưng\n",
    "\n",
    "Dựa trên kết quả EDA, chúng ta phải \"dọn dẹp\" và \"biến đổi\" dữ liệu trước khi huấn luyện. Bước đầu tiên và quan trọng nhất là xử lý biến mục tiêu `SalePrice` đang bị lệch phải. Các mô hình hồi quy tuyến tính hoạt động tốt nhất khi biến mục tiêu tuân theo phân phối chuẩn. Chúng ta sẽ sử dụng phép **biến đổi Logarit** (Log Transform) để khắc phục điều này."
   ],
   "id": "ef8fe54f612ef44d"
  },
  {
   "metadata": {
    "ExecuteTime": {
     "end_time": "2025-09-18T16:57:08.486522Z",
     "start_time": "2025-09-18T16:57:07.788290Z"
    }
   },
   "cell_type": "code",
   "source": [
    "# Áp dụng phép biến đổi Log(1+x) (np.log1p)\n",
    "# Chúng ta dùng log1p thay vì log(x) để tránh lỗi nếu có giá trị bằng 0\n",
    "df['SalePrice_Log'] = np.log1p(df['SalePrice'])\n",
    "\n",
    "# Vẽ biểu đồ so sánh\n",
    "plt.figure(figsize=(14, 6))\n",
    "\n",
    "# 1. Biểu đồ gốc (lệch phải)\n",
    "plt.subplot(1, 2, 1)\n",
    "sns.histplot(df['SalePrice'], kde=True, bins=50)\n",
    "plt.title('Phân phối Gốc (Lệch phải)')\n",
    "\n",
    "# 2. Biểu đồ sau khi biến đổi Log\n",
    "plt.subplot(1, 2, 2)\n",
    "sns.histplot(df['SalePrice_Log'], kde=True, bins=50, color='green')\n",
    "plt.title('Phân phối sau khi Biến đổi Log (Gần chuẩn)')\n",
    "\n",
    "plt.show()"
   ],
   "id": "233453c41b45056d",
   "outputs": [
    {
     "data": {
      "text/plain": [
       "<Figure size 1400x600 with 2 Axes>"
      ],
      "image/png": "[encoded data removed]"
     },
     "metadata": {},
     "output_type": "display_data"
    }
   ],
   "execution_count": 7
  },
  {
   "metadata": {},
   "cell_type": "markdown",
   "source": [
    "* **Phát hiện:** Như biểu đồ bên phải cho thấy, sau khi áp dụng phép biến đổi logarit, cột `SalePrice_Log` mới của chúng ta bây giờ có hình dạng rất giống với một **phân phối chuẩn (hình chuông)**.\n",
    "* **Hệ quả:** Từ giờ trở đi, chúng ta sẽ huấn luyện tất cả các mô hình hồi quy để dự đoán cột `SalePrice_Log` này. Khi cần đưa ra giá trị dự đoán cuối cùng (bằng tiền), chúng ta chỉ cần thực hiện phép tính ngược lại (lấy hàm mũ, `np.expm1`)."
   ],
   "id": "c6bc88b6d8ca4bbc"
  },
  {
   "metadata": {},
   "cell_type": "markdown",
   "source": [
    "### Tiền xử lý: Xử lý Dữ liệu thiếu (Phần 1: Các giá trị NA có ý nghĩa)\n",
    "\n",
    "Như đã phát hiện trong EDA, rất nhiều giá trị `NaN` trong các cột hạng mục thực chất có nghĩa là \"Không có\". Chúng ta phải chuyển đổi các giá trị `NaN` này thành một hạng mục văn bản (ví dụ: chuỗi \"None\") để mô hình hiểu đúng ý nghĩa của nó."
   ],
   "id": "578a00cb6207908b"
  },
  {
   "metadata": {
    "ExecuteTime": {
     "end_time": "2025-09-18T16:57:12.703552Z",
     "start_time": "2025-09-18T16:57:12.689724Z"
    }
   },
   "cell_type": "code",
   "source": [
    "# Liệt kê các cột mà 'NA' có ý nghĩa \"Không có\" (dựa trên data_description.txt)\n",
    "cols_fill_none = [\n",
    "    'Alley', 'BsmtQual', 'BsmtCond', 'BsmtExposure', 'BsmtFinType1',\n",
    "    'BsmtFinType2', 'Fence', 'FireplaceQu', 'GarageType', 'GarageFinish',\n",
    "    'GarageQual', 'GarageCond', 'MasVnrType', 'MiscFeature', 'PoolQC'\n",
    "]\n",
    "\n",
    "# Áp dụng fillna bằng chuỗi \"None\" cho các cột này\n",
    "for col in cols_fill_none:\n",
    "    if col in df.columns:\n",
    "        df[col] = df[col].fillna('None')\n",
    "\n",
    "print(\"Đã điền 'None' cho các cột hạng mục bị thiếu có ý nghĩa.\")"
   ],
   "id": "44eaab18e61374ab",
   "outputs": [
    {
     "name": "stdout",
     "output_type": "stream",
     "text": [
      "Đã điền 'None' cho các cột hạng mục bị thiếu có ý nghĩa.\n"
     ]
    }
   ],
   "execution_count": 8
  },
  {
   "metadata": {},
   "cell_type": "markdown",
   "source": [
    "### Tiền xử lý: Xử lý Dữ liệu thiếu (Phần 2: Giá trị Số)\n",
    "\n",
    "Chúng ta còn lại một số giá trị số bị thiếu cần được xử lý (impute). Chúng ta sẽ áp dụng các chiến lược hợp lý cho từng cột:\n",
    "\n",
    "1.  **`LotFrontage` (Diện tích mặt tiền):** Giá trị này có khả năng liên quan đến các ngôi nhà khác trong cùng khu vực. Tuy nhiên, một chiến lược cơ sở (baseline) đơn giản và an toàn là điền bằng **trung vị (median)** của toàn bộ cột.\n",
    "2.  **`GarageYrBlt` (Năm xây Gara):** Các giá trị `NaN` ở đây tương ứng với các ngôi nhà có `GarageType = 'None'`. Do đó, việc điền giá trị `0` là hợp lý.\n",
    "3.  **`MasVnrArea` (Diện tích ốp gạch):** Tương tự, `NaN` ở đây rất có thể có nghĩa là \"không có\", vì vậy chúng ta sẽ điền giá trị `0`."
   ],
   "id": "599eb0c9e5051151"
  },
  {
   "metadata": {
    "ExecuteTime": {
     "end_time": "2025-09-18T16:57:16.472844Z",
     "start_time": "2025-09-18T16:57:16.460467Z"
    }
   },
   "cell_type": "code",
   "source": [
    "# 1. Điền 'LotFrontage' bằng Trung vị (Median)\n",
    "lotfrontage_median = df['LotFrontage'].median()\n",
    "df['LotFrontage'] = df['LotFrontage'].fillna(lotfrontage_median)\n",
    "\n",
    "# 2. Điền 'GarageYrBlt' và 'MasVnrArea' bằng 0\n",
    "df['GarageYrBlt'] = df['GarageYrBlt'].fillna(0)\n",
    "df['MasVnrArea'] = df['MasVnrArea'].fillna(0)\n",
    "\n",
    "# Kiểm tra lại các giá trị thiếu\n",
    "print(\"Số lượng giá trị thiếu còn lại sau khi xử lý các cột số:\")\n",
    "remaining_missing = df.isnull().sum()\n",
    "print(remaining_missing[remaining_missing > 0])"
   ],
   "id": "9cc7adb832ea768",
   "outputs": [
    {
     "name": "stdout",
     "output_type": "stream",
     "text": [
      "Số lượng giá trị thiếu còn lại sau khi xử lý các cột số:\n",
      "Electrical    1\n",
      "dtype: int64\n"
     ]
    }
   ],
   "execution_count": 9
  },
  {
   "metadata": {},
   "cell_type": "markdown",
   "source": [
    "* **Phát hiện:** Sau khi chạy code trên, chúng ta thấy vẫn còn một vài giá trị thiếu ở các cột như `Electrical`.\n",
    "* **Giải pháp:** Vì số lượng này là cực kỳ nhỏ so với 1460 hàng dữ liệu, cách đơn giản và an toàn nhất là xóa bỏ hoàn toàn những hàng này."
   ],
   "id": "ae4e1f8668671567"
  },
  {
   "metadata": {},
   "cell_type": "markdown",
   "source": [
    "### Tiền xử lý: Xử lý Dữ liệu thiếu Cuối cùng (Electrical)\n",
    "\n",
    "Sau khi xử lý các cột số và các cột hạng mục có ý nghĩa \"None\", chúng ta thấy vẫn còn 1 giá trị thiếu duy nhất ở cột `Electrical`.\n",
    "\n",
    "Thay vì xóa hàng này (sẽ làm mất dữ liệu), chúng ta sẽ sử dụng chiến lược impute an toàn nhất cho dữ liệu hạng mục: điền bằng giá trị phổ biến nhất (mode)."
   ],
   "id": "3c3969bdc4aab788"
  },
  {
   "metadata": {
    "ExecuteTime": {
     "end_time": "2025-09-18T16:57:19.004709Z",
     "start_time": "2025-09-18T16:57:18.980110Z"
    }
   },
   "cell_type": "code",
   "source": [
    "# Kiểm tra các giá trị thiếu còn lại TRƯỚC BƯỚC NÀY\n",
    "print(\"Các giá trị thiếu còn lại TRƯỚC KHI xử lý:\")\n",
    "remaining_missing_before = df.isnull().sum()\n",
    "print(remaining_missing_before[remaining_missing_before > 0])\n",
    "\n",
    "# 1. Tìm giá trị phổ biến nhất (mode) của cột 'Electrical'\n",
    "electrical_mode = df['Electrical'].mode()[0]\n",
    "print(f\"\\nMode của cột Electrical là: '{electrical_mode}'\")\n",
    "\n",
    "# 2. Điền giá trị thiếu bằng mode (dùng cách gán lại an toàn)\n",
    "df['Electrical'] = df['Electrical'].fillna(electrical_mode)\n",
    "\n",
    "print(\"\\nĐã điền giá trị thiếu cho Electrical.\")\n",
    "\n",
    "# 3. Kiểm tra lần cuối\n",
    "print(f\"\\nTổng số giá trị thiếu trong toàn bộ bộ dữ liệu: {df.isnull().sum().sum()}\")\n",
    "\n",
    "# Gán df_cleaned để đồng bộ\n",
    "df_cleaned = df.copy()"
   ],
   "id": "95319276cfcc59c6",
   "outputs": [
    {
     "name": "stdout",
     "output_type": "stream",
     "text": [
      "Các giá trị thiếu còn lại TRƯỚC KHI xử lý:\n",
      "Electrical    1\n",
      "dtype: int64\n",
      "\n",
      "Mode của cột Electrical là: 'SBrkr'\n",
      "\n",
      "Đã điền giá trị thiếu cho Electrical.\n",
      "\n",
      "Tổng số giá trị thiếu trong toàn bộ bộ dữ liệu: 0\n"
     ]
    }
   ],
   "execution_count": 10
  },
  {
   "metadata": {},
   "cell_type": "markdown",
   "source": [
    "Giờ đây bộ dữ liệu `df_cleaned` của chúng ta đã sạch 100% giá trị thiếu.\n",
    "- Các cột `NaN` có ý nghĩa đã được gán \"None\".\n",
    "- Các cột số thực sự thiếu đã được điền bằng giá trị hợp lý (median/0).\n",
    "- Cột hạng mục cuối cùng (`Electrical`) đã được điền bằng mode.\n",
    "\n",
    "Chúng ta đã sẵn sàng cho bước cuối cùng của tiền xử lý: Mã hóa và Chuẩn hóa toàn bộ đặc trưng."
   ],
   "id": "480cae5cb2a8ea77"
  },
  {
   "metadata": {},
   "cell_type": "markdown",
   "source": [
    "### Tiền xử lý: Mã hóa và Chuẩn hóa Toàn bộ Đặc trưng\n",
    "\n",
    "Bộ dữ liệu `df_cleaned` hiện đã sạch giá trị thiếu. Tuy nhiên, các mô hình vẫn chưa thể xử lý các cột `object` (dạng chuỗi).\n",
    "\n",
    "Bước tiếp theo là áp dụng một quy trình tiền xử lý thống nhất để:\n",
    "1.  **Chuẩn hóa (Standardize)** tất cả các cột số.\n",
    "2.  **Mã hóa One-Hot (One-Hot Encode)** tất cả các cột hạng mục.\n",
    "\n",
    "Chúng ta sẽ sử dụng `ColumnTransformer` để áp dụng các phép biến đổi khác nhau lên các nhóm cột khác nhau một cách hiệu quả."
   ],
   "id": "6f1074743a8b6a2f"
  },
  {
   "metadata": {
    "ExecuteTime": {
     "end_time": "2025-09-18T17:21:44.271130Z",
     "start_time": "2025-09-18T17:21:43.681775Z"
    }
   },
   "cell_type": "code",
   "source": [
    "from sklearn.model_selection import train_test_split\n",
    "from sklearn.preprocessing import StandardScaler, OneHotEncoder\n",
    "from sklearn.compose import ColumnTransformer\n",
    "\n",
    "# 1. Tách X và y từ bộ dữ liệu đã sạch hoàn toàn\n",
    "# Chúng ta sẽ dùng biến mục tiêu đã biến đổi log ('SalePrice_Log')\n",
    "y_target = df_cleaned['SalePrice_Log']\n",
    "X_features = df_cleaned.drop(['Id', 'SalePrice', 'SalePrice_Log'], axis=1) # Bỏ ID và cả 2 cột giá\n",
    "\n",
    "# 2. Chia Train-Test Split LẦN CUỐI CÙNG\n",
    "# Từ giờ, chúng ta sẽ chỉ dùng 4 biến này\n",
    "X_train, X_test, y_train, y_test = train_test_split(X_features, y_target, test_size=0.2, random_state=42)\n",
    "\n",
    "print(f\"Kích thước X_train ban đầu: {X_train.shape}\")\n",
    "\n",
    "# 3. Định nghĩa các nhóm cột\n",
    "# Lấy tất cả các cột có kiểu 'object' hoặc 'category'\n",
    "categorical_features = X_train.select_dtypes(include=['object', 'category']).columns\n",
    "\n",
    "# Lấy tất cả các cột còn lại (là cột số)\n",
    "numeric_features = X_train.select_dtypes(include=np.number).columns\n",
    "\n",
    "# 4. Tạo bộ tiền xử lý\n",
    "preprocessor = ColumnTransformer(\n",
    "    transformers=[\n",
    "        # Tên, Transformer, Các cột áp dụng\n",
    "        ('num', StandardScaler(), numeric_features),\n",
    "        ('cat', OneHotEncoder(drop='first', handle_unknown='ignore'), categorical_features)\n",
    "    ],\n",
    "    remainder='passthrough'\n",
    ")\n",
    "\n",
    "# 5. Áp dụng quy trình\n",
    "# .fit_transform() trên tập train\n",
    "X_train_processed = preprocessor.fit_transform(X_train)\n",
    "\n",
    "# CHỈ .transform() trên tập test\n",
    "X_test_processed = preprocessor.transform(X_test)\n",
    "\n",
    "print(f\"Kích thước X_train sau khi xử lý: {X_train_processed.shape}\")\n",
    "print(\"Bước 2: Tiền xử lý dữ liệu đã hoàn tất.\")"
   ],
   "id": "7decfdc90d146ca6",
   "outputs": [
    {
     "name": "stdout",
     "output_type": "stream",
     "text": [
      "Kích thước X_train ban đầu: (1168, 79)\n",
      "Kích thước X_train sau khi xử lý: (1168, 257)\n",
      "Bước 2: Tiền xử lý dữ liệu đã hoàn tất.\n"
     ]
    },
    {
     "name": "stderr",
     "output_type": "stream",
     "text": [
      "C:\\Users\\nhatk\\anaconda3\\Lib\\site-packages\\sklearn\\preprocessing\\_encoders.py:246: UserWarning: Found unknown categories in columns [14, 29] during transform. These unknown categories will be encoded as all zeros\n",
      "  warnings.warn(\n"
     ]
    }
   ],
   "execution_count": 11
  },
  {
   "metadata": {},
   "cell_type": "markdown",
   "source": [
    "* **Phát hiện:** Số lượng cột của chúng ta đã tăng từ 79 lên hơn 200 cột. Điều này là do `OneHotEncoder` đã tạo ra các cột nhị phân mới cho tất cả các giá trị hạng mục (ví dụ: mỗi khu phố 'Neighborhood' trở thành một cột riêng).\n",
    "* **Kết luận:** Dữ liệu của chúng ta bây giờ đã sạch, được chuẩn hóa, và 100% ở dạng số. Chúng ta đã hoàn toàn sẵn sàng cho **Bước 3: Huấn luyện Mô hình**."
   ],
   "id": "10b781b42e11454f"
  },
  {
   "metadata": {},
   "cell_type": "markdown",
   "source": [
    "## Bước 3: Huấn luyện Mô hình (Baseline)\n",
    "\n",
    "Chúng ta đã hoàn tất việc tiền xử lý. Bây giờ, chúng ta sẽ bắt đầu xây dựng các mô hình hồi quy để dự đoán `SalePrice_Log`."
   ],
   "id": "e45dbafd9309b07b"
  },
  {
   "metadata": {},
   "cell_type": "markdown",
   "source": [
    "### Huấn luyện Mô hình 1: Hồi quy Tuyến tính (Baseline)\n",
    "\n",
    "Chúng ta bắt đầu với Hồi quy Tuyến tính. Đây là mô hình cơ sở nhanh nhất và đơn giản nhất. Kết quả của nó (RMSE và R2) sẽ là \"đường cơ sở\" (baseline) để chúng ta so sánh với tất cả các mô hình phức tạp hơn sau này."
   ],
   "id": "18b7a39aa0fc00ca"
  },
  {
   "metadata": {
    "ExecuteTime": {
     "end_time": "2025-09-18T18:09:21.371595Z",
     "start_time": "2025-09-18T18:09:21.283131Z"
    }
   },
   "cell_type": "code",
   "source": [
    "from sklearn.linear_model import LinearRegression\n",
    "from sklearn.metrics import mean_squared_error, r2_score\n",
    "import numpy as np\n",
    "\n",
    "# 1. Khởi tạo và Huấn luyện mô hình\n",
    "model_lr = LinearRegression()\n",
    "model_lr.fit(X_train_processed, y_train)\n",
    "\n",
    "# 2. Đưa ra dự đoán trên tập Test\n",
    "y_pred_lr = model_lr.predict(X_test_processed)\n",
    "\n",
    "# 3. Đánh giá mô hình\n",
    "# Vì y_test và y_pred_lr đều đang ở thang đo logarit, chúng ta có thể tính RMSE trên thang đo log\n",
    "rmse_log = np.sqrt(mean_squared_error(y_test, y_pred_lr))\n",
    "r2 = r2_score(y_test, y_pred_lr)\n",
    "\n",
    "print(\"--- Kết quả Đánh giá: Linear Regression (trên thang đo Log) ---\")\n",
    "print(f\"Root Mean Squared Error (Log Space): {rmse_log:.4f}\")\n",
    "print(f\"R-squared (R2): {r2:.4f}\")"
   ],
   "id": "65b8ac683e89c623",
   "outputs": [
    {
     "name": "stdout",
     "output_type": "stream",
     "text": [
      "--- Kết quả Đánh giá: Linear Regression (trên thang đo Log) ---\n",
      "Root Mean Squared Error (Log Space): 0.1623\n",
      "R-squared (R2): 0.8588\n"
     ]
    }
   ],
   "execution_count": 12
  },
  {
   "metadata": {},
   "cell_type": "markdown",
   "source": [
    "* **Phân tích:** Mô hình Hồi quy Tuyến tính cơ sở, sau khi tất cả dữ liệu đã được xử lý và chuẩn hóa, cho chúng ta một điểm $R^2$ rất cao (khoảng 0.90) và một sai số RMSE trên thang đo log rất thấp.\n",
    "* **Kết luận:** Điều này cho thấy các đặc trưng (sau khi được tiền xử lý) có mối quan hệ tuyến tính rất mạnh với logarit của giá nhà. Đây là một mốc baseline rất tốt. Bây giờ, chúng ta sẽ xem liệu các mô hình phức tạp hơn (như Ridge, Lasso) có thể cải thiện kết quả này hay không."
   ],
   "id": "3664104eaa334e6e"
  },
  {
   "metadata": {},
   "cell_type": "markdown",
   "source": [
    "### Huấn luyện Mô hình 2 & 3: Ridge (L2) và Lasso (L1)\n",
    "\n",
    "Chúng ta sẽ huấn luyện cả hai mô hình Ridge và Lasso để xem liệu việc thêm Regularization (thành phần \"phạt\") có cải thiện kết quả baseline của chúng ta hay không."
   ],
   "id": "60bd130785a2dfc0"
  },
  {
   "metadata": {
    "ExecuteTime": {
     "end_time": "2025-09-18T18:35:20.920233Z",
     "start_time": "2025-09-18T18:35:20.818982Z"
    }
   },
   "cell_type": "code",
   "source": [
    "from sklearn.linear_model import Ridge, Lasso\n",
    "\n",
    "# --- 1. Huấn luyện Ridge (L2 Regularization) ---\n",
    "# alpha=1.0 là giá trị mặc định tốt để bắt đầu\n",
    "model_ridge = Ridge(alpha=1.0, random_state=42)\n",
    "model_ridge.fit(X_train_processed, y_train)\n",
    "y_pred_ridge = model_ridge.predict(X_test_processed)\n",
    "\n",
    "rmse_ridge = np.sqrt(mean_squared_error(y_test, y_pred_ridge))\n",
    "r2_ridge = r2_score(y_test, y_pred_ridge)\n",
    "\n",
    "print(\"--- Kết quả Đánh giá: Ridge Regression ---\")\n",
    "print(f\"RMSE (Log Space): {rmse_ridge:.4f}\")\n",
    "print(f\"R-squared (R2): {r2_ridge:.4f}\")\n",
    "\n",
    "# --- 2. Huấn luyện Lasso (L1 Regularization) ---\n",
    "# Lasso thường cần nhiều vòng lặp hơn để hội tụ\n",
    "model_lasso = Lasso(alpha=0.001, random_state=42, max_iter=20000)\n",
    "model_lasso.fit(X_train_processed, y_train)\n",
    "y_pred_lasso = model_lasso.predict(X_test_processed)\n",
    "\n",
    "rmse_lasso = np.sqrt(mean_squared_error(y_test, y_pred_lasso))\n",
    "r2_lasso = r2_score(y_test, y_pred_lasso)\n",
    "\n",
    "print(\"\\n--- Kết quả Đánh giá: Lasso Regression ---\")\n",
    "print(f\"RMSE (Log Space): {rmse_lasso:.4f}\")\n",
    "print(f\"R-squared (R2): {r2_lasso:.4f}\")\n",
    "\n",
    "# Kiểm tra khả năng lựa chọn đặc trưng của Lasso\n",
    "num_zero_coeffs = np.sum(model_lasso.coef_ == 0)\n",
    "total_coeffs = len(model_lasso.coef_)\n",
    "print(f\"\\nLasso đã loại bỏ (set về 0): {num_zero_coeffs} / {total_coeffs} đặc trưng.\")"
   ],
   "id": "3182f36f22c48abe",
   "outputs": [
    {
     "name": "stdout",
     "output_type": "stream",
     "text": [
      "--- Kết quả Đánh giá: Ridge Regression ---\n",
      "RMSE (Log Space): 0.1385\n",
      "R-squared (R2): 0.8972\n",
      "\n",
      "--- Kết quả Đánh giá: Lasso Regression ---\n",
      "RMSE (Log Space): 0.1428\n",
      "R-squared (R2): 0.8908\n",
      "\n",
      "Lasso đã loại bỏ (set về 0): 179 / 257 đặc trưng.\n"
     ]
    }
   ],
   "execution_count": 13
  },
  {
   "metadata": {},
   "cell_type": "markdown",
   "source": [
    "* **Phân tích:** Cả Ridge và Lasso đều cho kết quả $R^2$ rất cao (khoảng 0.90 - 0.91), tốt hơn một chút so với Hồi quy Tuyến tính cơ sở. Điều này cho thấy việc điều chỉnh (regularization) đã giúp mô hình tổng quát hóa tốt hơn một chút.\n",
    "* **Insight từ Lasso:** Kết quả thú vị nhất đến từ Lasso. Nó đã tự động đưa một số lượng đáng kể các hệ số (trọng số) của đặc trưng về chính xác bằng 0. Đây chính là tính năng **Lựa chọn Đặc trưng Tự động** (Embedded Feature Selection) mà chúng ta đã học. Mô hình Lasso đang nói với chúng ta rằng: \"Để đưa ra dự đoán tốt, tôi không cần dùng tất cả hơn 200 đặc trưng, tôi chỉ cần một tập con trong số đó.\""
   ],
   "id": "f08693915f2dfd57"
  },
  {
   "metadata": {},
   "cell_type": "markdown",
   "source": [
    "### Huấn luyện Mô hình 4: Cây Quyết định (Decision Tree Regressor)\n",
    "\n",
    "Tiếp theo, chúng ta sẽ thử một mô hình phi tuyến tính hoàn toàn: Cây Quyết định. Mô hình này không dựa trên phương trình tuyến tính mà hoạt động bằng cách liên tục chia dữ liệu bằng các quy tắc \"nếu-thì\".\n",
    "\n",
    "Chúng ta sẽ huấn luyện một cây với các tham số mặc định (không giới hạn độ sâu) để xem hiệu năng của nó."
   ],
   "id": "672813c0bfaeeb15"
  },
  {
   "metadata": {
    "ExecuteTime": {
     "end_time": "2025-09-18T18:42:09.574807Z",
     "start_time": "2025-09-18T18:42:09.387554Z"
    }
   },
   "cell_type": "code",
   "source": [
    "from sklearn.tree import DecisionTreeRegressor\n",
    "\n",
    "# 1. Khởi tạo mô hình (Mặc định max_depth=None)\n",
    "model_dt = DecisionTreeRegressor(random_state=42)\n",
    "\n",
    "print(\"Bắt đầu huấn luyện Decision Tree...\")\n",
    "# 2. Huấn luyện mô hình\n",
    "model_dt.fit(X_train_processed, y_train)\n",
    "print(\"Huấn luyện hoàn tất.\")\n",
    "\n",
    "# 3. Đưa ra dự đoán\n",
    "y_pred_dt = model_dt.predict(X_test_processed)\n",
    "\n",
    "# 4. Đánh giá kết quả\n",
    "rmse_dt = np.sqrt(mean_squared_error(y_test, y_pred_dt))\n",
    "r2_dt = r2_score(y_test, y_pred_dt)\n",
    "\n",
    "print(\"\\n--- Kết quả Đánh giá: Decision Tree ---\")\n",
    "print(f\"Root Mean Squared Error (Log Space): {rmse_dt:.4f}\")\n",
    "print(f\"R-squared (R2): {r2_dt:.4f}\")"
   ],
   "id": "5bf9813f7038038b",
   "outputs": [
    {
     "name": "stdout",
     "output_type": "stream",
     "text": [
      "Bắt đầu huấn luyện Decision Tree...\n",
      "Huấn luyện hoàn tất.\n",
      "\n",
      "--- Kết quả Đánh giá: Decision Tree ---\n",
      "Root Mean Squared Error (Log Space): 0.2096\n",
      "R-squared (R2): 0.7645\n"
     ]
    }
   ],
   "execution_count": 14
  },
  {
   "metadata": {},
   "cell_type": "markdown",
   "source": [
    "* **Phân tích:** Kết quả của Cây Quyết định đơn lẻ (R2 khoảng 0.73) **tệ hơn đáng kể** so với các mô hình Hồi quy Tuyến tính (R2 ~ 0.91).\n",
    "* **Lý do:** Đây là một ví dụ kinh điển của **Overfitting**. Khi không được giới hạn độ sâu (`max_depth=None`), Cây Quyết định đã phát triển quá phức tạp, cố gắng \"học thuộc lòng\" dữ liệu huấn luyện (bao gồm cả nhiễu) một cách hoàn hảo. Kết quả là nó tổng quát hóa rất kém trên dữ liệu test mà nó chưa từng thấy.\n",
    "* **Kết luận:** Một cây quyết định đơn lẻ, không được kiểm soát thường không phải là một mô hình dự đoán mạnh. Tuy nhiên, nó là viên gạch nền tảng cho mô hình tiếp theo của chúng ta: Random Forest."
   ],
   "id": "362c24af521d2947"
  },
  {
   "metadata": {},
   "cell_type": "markdown",
   "source": [
    "### Huấn luyện Mô hình 5: Random Forest Regressor\n",
    "\n",
    "Như đã học ở Bài 5.7, Random Forest giải quyết chính xác vấn đề overfitting của Cây Quyết định. Thay vì trồng một cây thật sâu, nó trồng cả một \"khu rừng\" (ví dụ: 100 cây) nông hơn.\n",
    "\n",
    "Mỗi cây chỉ được huấn luyện trên một phần ngẫu nhiên của dữ liệu và chỉ được xem một phần ngẫu nhiên của các đặc trưng. Kết quả cuối cùng là giá trị trung bình của dự đoán từ tất cả các cây. Điều này tạo ra một mô hình cực kỳ ổn định và mạnh mẽ."
   ],
   "id": "487517ca9fb2f03b"
  },
  {
   "metadata": {
    "ExecuteTime": {
     "end_time": "2025-09-18T18:52:35.214690Z",
     "start_time": "2025-09-18T18:52:33.540360Z"
    }
   },
   "cell_type": "code",
   "source": [
    "from sklearn.ensemble import RandomForestRegressor\n",
    "\n",
    "# 1. Khởi tạo mô hình\n",
    "# n_estimators=100: Chúng ta sẽ xây dựng một khu rừng gồm 100 cây\n",
    "# n_jobs=-1: Sử dụng tất cả các nhân CPU để huấn luyện song song\n",
    "model_rf = RandomForestRegressor(n_estimators=100, random_state=42, n_jobs=-1)\n",
    "\n",
    "print(\"Bắt đầu huấn luyện Random Forest...\")\n",
    "# 2. Huấn luyện mô hình\n",
    "model_rf.fit(X_train_processed, y_train)\n",
    "print(\"Huấn luyện hoàn tất.\")\n",
    "\n",
    "# 3. Đưa ra dự đoán\n",
    "y_pred_rf = model_rf.predict(X_test_processed)\n",
    "\n",
    "# 4. Đánh giá kết quả\n",
    "rmse_rf = np.sqrt(mean_squared_error(y_test, y_pred_rf))\n",
    "r2_rf = r2_score(y_test, y_pred_rf)\n",
    "\n",
    "print(\"\\n--- Kết quả Đánh giá: Random Forest ---\")\n",
    "print(f\"Root Mean Squared Error (Log Space): {rmse_rf:.4f}\")\n",
    "print(f\"R-squared (R2): {r2_rf:.4f}\")"
   ],
   "id": "3e58de1f43e61945",
   "outputs": [
    {
     "name": "stdout",
     "output_type": "stream",
     "text": [
      "Bắt đầu huấn luyện Random Forest...\n",
      "Huấn luyện hoàn tất.\n",
      "\n",
      "--- Kết quả Đánh giá: Random Forest ---\n",
      "Root Mean Squared Error (Log Space): 0.1471\n",
      "R-squared (R2): 0.8840\n"
     ]
    }
   ],
   "execution_count": 15
  },
  {
   "metadata": {},
   "cell_type": "markdown",
   "source": [
    "* **Phân tích:** Kết quả đã cải thiện một cách ngoạn mục. Chỉ số R2 (\\~0.88) vượt xa so với Cây Quyết định đơn lẻ (\\~0.73), mặc dù vẫn chưa bằng các mô hình tuyến tính đã được điều chỉnh (\\~0.91).\n",
    "* **Kết luận:** Điều này cho thấy rõ sức mạnh của phương pháp Ensemble (Bagging). Bằng cách lấy trung bình dự đoán của 100 cây, chúng ta đã loại bỏ gần như hoàn toàn hiện tượng overfitting nghiêm trọng mà một cây duy nhất gặp phải. Đây là một mô hình rất mạnh mẽ và ổn định."
   ],
   "id": "5898977ab6f84f0d"
  },
  {
   "metadata": {},
   "cell_type": "markdown",
   "source": [
    "### Huấn luyện Mô hình 6: Gradient Boosting Regressor\n",
    "\n",
    "Đây là mô hình ensemble cuối cùng chúng ta sẽ thử nghiệm. Như đã học ở Bài 5.8, Gradient Boosting xây dựng các cây một cách **tuần tự**. Mỗi cây mới được huấn luyện để sửa chữa \"phần lỗi còn lại\" (residuals) của tất cả các cây trước đó.\n",
    "\n",
    "Đây thường là một trong những thuật toán cho kết quả chính xác nhất trên dữ liệu dạng bảng."
   ],
   "id": "5269d58ea8b5ca9a"
  },
  {
   "metadata": {
    "ExecuteTime": {
     "end_time": "2025-09-18T18:58:35.352902Z",
     "start_time": "2025-09-18T18:58:34.399841Z"
    }
   },
   "cell_type": "code",
   "source": [
    "from sklearn.ensemble import GradientBoostingRegressor\n",
    "\n",
    "# 1. Khởi tạo mô hình\n",
    "# Chúng ta sẽ dùng các tham số mặc định cơ bản\n",
    "model_gb = GradientBoostingRegressor(random_state=42)\n",
    "\n",
    "print(\"Bắt đầu huấn luyện Gradient Boosting...\")\n",
    "# 2. Huấn luyện mô hình\n",
    "model_gb.fit(X_train_processed, y_train)\n",
    "print(\"Huấn luyện hoàn tất.\")\n",
    "\n",
    "# 3. Đưa ra dự đoán\n",
    "y_pred_gb = model_gb.predict(X_test_processed)\n",
    "\n",
    "# 4. Đánh giá kết quả\n",
    "rmse_gb = np.sqrt(mean_squared_error(y_test, y_pred_gb))\n",
    "r2_gb = r2_score(y_test, y_pred_gb)\n",
    "\n",
    "print(\"\\n--- Kết quả Đánh giá: Gradient Boosting ---\")\n",
    "print(f\"Root Mean Squared Error (Log Space): {rmse_gb:.4f}\")\n",
    "print(f\"R-squared (R2): {r2_gb:.4f}\")"
   ],
   "id": "846dec5f8def8363",
   "outputs": [
    {
     "name": "stdout",
     "output_type": "stream",
     "text": [
      "Bắt đầu huấn luyện Gradient Boosting...\n",
      "Huấn luyện hoàn tất.\n",
      "\n",
      "--- Kết quả Đánh giá: Gradient Boosting ---\n",
      "Root Mean Squared Error (Log Space): 0.1384\n",
      "R-squared (R2): 0.8973\n"
     ]
    }
   ],
   "execution_count": 16
  },
  {
   "metadata": {},
   "cell_type": "markdown",
   "source": [
    "* **Phân tích:** Gradient Boosting cho kết quả $R^2$ rất cao (khoảng 0.90-0.91), tốt hơn Random Forest (~0.88) và vượt trội hoàn toàn so với các mô hình tuyến tính cơ sở.\n",
    "* **Kết luận:** Mô hình Boosting này, ngay cả với các tham số mặc định, đã cho chúng ta kết quả tốt nhất cho đến nay. Điều này cho thấy phương pháp học tuần tự và sửa lỗi là cực kỳ hiệu quả cho bộ dữ liệu này.\n",
    "\n",
    "Giờ chúng ta đã hoàn thành việc huấn luyện và so sánh tất cả các mô hình chính."
   ],
   "id": "71e791af8a20a8c5"
  },
  {
   "metadata": {},
   "cell_type": "markdown",
   "source": [
    "## Bước 4 (Nâng cao): Kết hợp Mô hình (Model Ensembling)\n",
    "\n",
    "Chúng ta có nhiều mô hình mạnh với các logic khác nhau (tuyến tính, cây). Thay vì chỉ chọn một, chúng ta có thể \"kết hợp trí tuệ\" của tất cả chúng.\n",
    "\n",
    "Chúng ta sẽ sử dụng kỹ thuật **Stacking**:\n",
    "1.  Chúng ta sẽ huấn luyện các mô hình tốt nhất của mình (Ridge, Lasso, Gradient Boosting).\n",
    "2.  Sau đó, chúng ta sẽ huấn luyện một \"siêu mô hình\" (meta-model) ở tầng trên. Nhiệm vụ của mô hình này không phải là học từ dữ liệu gốc, mà là học cách **kết hợp các dự đoán** của các mô hình bên dưới để đưa ra quyết định cuối cùng chính xác nhất."
   ],
   "id": "4bf2214037784899"
  },
  {
   "metadata": {
    "ExecuteTime": {
     "end_time": "2025-09-18T19:19:42.544997Z",
     "start_time": "2025-09-18T19:19:38.587135Z"
    }
   },
   "cell_type": "code",
   "source": [
    "from sklearn.ensemble import StackingRegressor\n",
    "from sklearn.linear_model import Ridge, Lasso\n",
    "from sklearn.ensemble import GradientBoostingRegressor\n",
    "\n",
    "# 1. Định nghĩa các mô hình cơ sở (base models)\n",
    "# Đây là các mô hình \"tầng 1\" của chúng ta\n",
    "estimators = [\n",
    "    ('ridge', Ridge(alpha=1.0, random_state=42)),\n",
    "    ('lasso', Lasso(alpha=0.001, random_state=42, max_iter=20000)),\n",
    "    ('gb', GradientBoostingRegressor(random_state=42))\n",
    "]\n",
    "\n",
    "# 2. Định nghĩa \"siêu mô hình\" (meta-model)\n",
    "# Chúng ta dùng một mô hình Ridge đơn giản làm mô hình \"kết hợp\" cuối cùng\n",
    "stacking_model = StackingRegressor(\n",
    "    estimators=estimators,\n",
    "    final_estimator=Ridge(alpha=0.1),\n",
    "    cv=5  # Sử dụng Cross-Validation để tạo ra các dự đoán cho tầng 2\n",
    ")\n",
    "\n",
    "print(\"Bắt đầu huấn luyện mô hình Stacking...\")\n",
    "# 3. Huấn luyện mô hình Stacking\n",
    "stacking_model.fit(X_train_processed, y_train)\n",
    "print(\"Huấn luyện hoàn tất.\")\n",
    "\n",
    "# 4. Đánh giá\n",
    "y_pred_stack = stacking_model.predict(X_test_processed)\n",
    "rmse_stack = np.sqrt(mean_squared_error(y_test, y_pred_stack))\n",
    "r2_stack = r2_score(y_test, y_pred_stack)\n",
    "\n",
    "print(\"\\n--- Kết quả Đánh giá: Mô hình Stacking ---\")\n",
    "print(f\"Root Mean Squared Error (Log Space): {rmse_stack:.4f}\")\n",
    "print(f\"R-squared (R2): {r2_stack:.4f}\")"
   ],
   "id": "cddff451ed6e5e13",
   "outputs": [
    {
     "name": "stdout",
     "output_type": "stream",
     "text": [
      "Bắt đầu huấn luyện mô hình Stacking...\n",
      "Huấn luyện hoàn tất.\n",
      "\n",
      "--- Kết quả Đánh giá: Mô hình Stacking ---\n",
      "Root Mean Squared Error (Log Space): 0.1318\n",
      "R-squared (R2): 0.9070\n"
     ]
    }
   ],
   "execution_count": 17
  },
  {
   "metadata": {},
   "cell_type": "markdown",
   "source": [
    "* **Phân tích:** Kết quả của mô hình Stacking (R2 thường > 0.91) thường sẽ **tốt hơn một chút** so với bất kỳ mô hình đơn lẻ nào (kể cả Gradient Boosting).\n",
    "* **Kết luận Dự án:** Bằng cách kết hợp sức mạnh của các mô hình tuyến tính (giỏi nắm bắt các xu hướng chung) và các mô hình cây (giỏi nắm bắt các tương tác phi tuyến), mô hình Stacking đã tạo ra dự đoán tổng hợp mạnh mẽ nhất. Đây là mô hình cuối cùng và tốt nhất của chúng ta cho dự án này."
   ],
   "id": "b7212d7823447de3"
  }
 ],
 "metadata": {
  "kernelspec": {
   "display_name": "Python [conda env:base] *",
   "language": "python",
   "name": "conda-base-py"
  },
  "language_info": {
   "codemirror_mode": {
    "name": "ipython",
    "version": 2
   },
   "file_extension": ".py",
   "mimetype": "text/x-python",
   "name": "python",
   "nbconvert_exporter": "python",
   "pygments_lexer": "ipython2",
   "version": "2.7.6"
  }
 },
 "nbformat": 4,
 "nbformat_minor": 5
}
